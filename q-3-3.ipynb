{
 "cells": [
  {
   "cell_type": "code",
   "execution_count": 315,
   "metadata": {},
   "outputs": [],
   "source": [
    "import numpy as np\n",
    "import pandas as pd\n",
    "from sklearn.preprocessing import LabelEncoder,OneHotEncoder\n",
    "import sklearn as sk\n",
    "from sklearn.model_selection import train_test_split\n",
    "from sklearn.metrics import r2_score,mean_squared_error,mean_absolute_error\n",
    "from pylab import *\n",
    "import matplotlib\n",
    "import matplotlib.pyplot as plt\n",
    "# from sklearn.utils import check_arrays"
   ]
  },
  {
   "cell_type": "code",
   "execution_count": 316,
   "metadata": {},
   "outputs": [],
   "source": [
    "df=pd.read_csv(\"AdmissionDataset/data.csv\")\n",
    "df\n",
    "X =df.drop(['Chance of Admit ','Serial No.'],axis=1)\n",
    "y=df['Chance of Admit ']\n"
   ]
  },
  {
   "cell_type": "markdown",
   "metadata": {},
   "source": [
    "*Standardizing consists in subtracting the mean and dividing by the standard deviation.*\n",
    "*The convention that you standardize predictions primarily exists so that the units of the regression coefficients are the same.*\n",
    "*when value are largely diffrent one is population and some other attribute is fraction*"
   ]
  },
  {
   "cell_type": "code",
   "execution_count": 317,
   "metadata": {},
   "outputs": [],
   "source": [
    "X = (X - X.mean())/X.std()#normalize the data(z-mu)/(sigma)\n",
    "# y=(y-y.mean())/y.std()\n",
    "#kyuki actual y ke paas pahuchna hai isliye ,jhe y ko normalize karne ka koi reason nahi lag raha"
   ]
  },
  {
   "cell_type": "code",
   "execution_count": 318,
   "metadata": {},
   "outputs": [],
   "source": [
    "X_train, X_test, y_train, y_test = train_test_split(X, y, test_size=0.2)\n",
    "features=['GRE Score','TOEFL Score','University Rating','SOP','LOR ','CGPA','Research']\n",
    "my_data=pd.concat([X_train,y_train],axis=1)"
   ]
  },
  {
   "cell_type": "code",
   "execution_count": 319,
   "metadata": {},
   "outputs": [],
   "source": [
    "X=X_train"
   ]
  },
  {
   "cell_type": "code",
   "execution_count": 320,
   "metadata": {},
   "outputs": [],
   "source": [
    "ones = np.ones([X.shape[0],1])\n"
   ]
  },
  {
   "cell_type": "code",
   "execution_count": 321,
   "metadata": {},
   "outputs": [],
   "source": [
    "X = np.concatenate((ones,X),axis=1)\n"
   ]
  },
  {
   "cell_type": "markdown",
   "metadata": {},
   "source": [
    "*values converts it from pandas.core.frame.DataFrame to numpy.ndarray*"
   ]
  },
  {
   "cell_type": "code",
   "execution_count": 322,
   "metadata": {},
   "outputs": [],
   "source": [
    "y\n",
    "y=pd.DataFrame(y_train)\n",
    "y=y.values"
   ]
  },
  {
   "cell_type": "markdown",
   "metadata": {},
   "source": [
    "*basically assumed m=0 and c=0 for each independent variable intially*"
   ]
  },
  {
   "cell_type": "code",
   "execution_count": 323,
   "metadata": {},
   "outputs": [],
   "source": [
    "theta = np.zeros([1,8])\n",
    "\n",
    "# theta"
   ]
  },
  {
   "cell_type": "markdown",
   "metadata": {},
   "source": [
    "*learning rate needed along with direction*"
   ]
  },
  {
   "cell_type": "code",
   "execution_count": 324,
   "metadata": {},
   "outputs": [],
   "source": [
    "#set hyper parameters\n",
    "alpha = 0.01"
   ]
  },
  {
   "cell_type": "markdown",
   "metadata": {},
   "source": [
    "*no of times we have to iterate to minimize rms*"
   ]
  },
  {
   "cell_type": "code",
   "execution_count": 325,
   "metadata": {},
   "outputs": [],
   "source": [
    "iters = 1000"
   ]
  },
  {
   "cell_type": "code",
   "execution_count": 326,
   "metadata": {},
   "outputs": [],
   "source": [
    "cost=[]\n",
    "def computeCost(X,y,theta):\n",
    "    squareError = np.power(((X @ theta.T)-y),2)\n",
    "    return np.sum(squareError)/(2 * len(X))"
   ]
  },
  {
   "cell_type": "markdown",
   "metadata": {},
   "source": [
    "*Calculating Gradient desent for MSE for predicting best theta values*"
   ]
  },
  {
   "cell_type": "code",
   "execution_count": 327,
   "metadata": {},
   "outputs": [],
   "source": [
    "def gradientDescent(X,y,theta,iters,alpha):\n",
    "#     cost = np.zeros(iters)\n",
    "    for i in range(iters):\n",
    "        theta = theta - (alpha/len(X)) * np.sum(X * (X @ theta.T - y), axis=0)\n",
    "        cost.append(computeCost(X, y, theta))\n",
    "#         cost[i] = computeCost(X, y, theta)\n",
    "    \n",
    "    return theta\n",
    "\n",
    "g = gradientDescent(X,y,theta,iters,alpha)\n",
    "g1=gradientDescentMeanAbsolute(X,y,theta,iters,alpha)\n"
   ]
  },
  {
   "cell_type": "markdown",
   "metadata": {},
   "source": [
    "*Calculated Theta List*"
   ]
  },
  {
   "cell_type": "code",
   "execution_count": 328,
   "metadata": {},
   "outputs": [],
   "source": [
    "betaList=g[0]"
   ]
  },
  {
   "cell_type": "code",
   "execution_count": 329,
   "metadata": {},
   "outputs": [
    {
     "data": {
      "text/plain": [
       "Text(0.5, 1.0, 'Iteration vs Error')"
      ]
     },
     "execution_count": 329,
     "metadata": {},
     "output_type": "execute_result"
    },
    {
     "data": {
      "image/png": "[encoded data removed]",
      "text/plain": [
       "<Figure size 432x288 with 1 Axes>"
      ]
     },
     "metadata": {
      "needs_background": "light"
     },
     "output_type": "display_data"
    }
   ],
   "source": [
    "x_axis = [i for i in range(1,1001)]\n",
    "fig, ax = plt.subplots()\n",
    "ax.plot(x_axis,cost)\n",
    "# ax.legend(loc=1) # upper left corner\n",
    "ax.set_xlabel(\"Iteration\", fontsize=10)\n",
    "ax.set_ylabel(\"Error\", fontsize=10)\n",
    "ax.set_title('Iteration vs Error')"
   ]
  }
 ],
 "metadata": {
  "kernelspec": {
   "display_name": "Python 3",
   "language": "python",
   "name": "python3"
  },
  "language_info": {
   "codemirror_mode": {
    "name": "ipython",
    "version": 3
   },
   "file_extension": ".py",
   "mimetype": "text/x-python",
   "name": "python",
   "nbconvert_exporter": "python",
   "pygments_lexer": "ipython3",
   "version": "3.6.7"
  }
 },
 "nbformat": 4,
 "nbformat_minor": 2
}
