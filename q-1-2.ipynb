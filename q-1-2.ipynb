{
 "cells": [
  {
   "cell_type": "code",
   "execution_count": 15,
   "metadata": {},
   "outputs": [],
   "source": [
    "import pandas as pd\n",
    "import numpy as np\n",
    "from sklearn.neighbors import KNeighborsClassifier\n",
    "import sklearn as sk\n",
    "from sklearn.model_selection import train_test_split\n",
    "eps=np.finfo(float).eps\n",
    "from binarytree import tree,Node\n",
    "from sklearn.metrics import classification_report, confusion_matrix ,accuracy_score\n",
    "from sklearn.tree import DecisionTreeClassifier\n",
    "from operator import itemgetter\n",
    "import copy\n",
    "import collections\n",
    "from pylab import *\n",
    "import matplotlib\n",
    "import matplotlib.pyplot as plt"
   ]
  },
  {
   "cell_type": "code",
   "execution_count": 16,
   "metadata": {},
   "outputs": [],
   "source": [
    "def cosine_similarity(x, y):\n",
    "    return 1-np.dot(x, y) / (np.sqrt(np.dot(x, x)) * np.sqrt(np.dot(y, y)))"
   ]
  },
  {
   "cell_type": "code",
   "execution_count": 17,
   "metadata": {},
   "outputs": [],
   "source": [
    "def Manhattan_distance(x, y): \n",
    "#row by row i.e all features resultant euclid distance in single line\n",
    "    return (np.sum(abs(x - y)))\n"
   ]
  },
  {
   "cell_type": "code",
   "execution_count": 18,
   "metadata": {},
   "outputs": [],
   "source": [
    "def euclidean_distance(x, y): \n",
    "#row by row i.e all features resultant euclid distance in single line\n",
    "    return np.sqrt(np.sum((x - y) ** 2))\n"
   ]
  },
  {
   "cell_type": "code",
   "execution_count": 19,
   "metadata": {
    "scrolled": false
   },
   "outputs": [],
   "source": [
    "names=['sepal-length','sepal-width','petal-length','petal-width','Class']\n",
    "df=pd.read_csv(\"Iris/Iris.csv\",names=names)"
   ]
  },
  {
   "cell_type": "code",
   "execution_count": 20,
   "metadata": {},
   "outputs": [],
   "source": [
    "X =df.drop(['Class'],axis=1)\n",
    "y=df['Class']\n",
    "X_train, X_test, y_train, y_test = train_test_split(X, y, test_size=0.2)"
   ]
  },
  {
   "cell_type": "code",
   "execution_count": 21,
   "metadata": {},
   "outputs": [],
   "source": [
    "df=X_train\n",
    "y_train=list(y_train)"
   ]
  },
  {
   "cell_type": "code",
   "execution_count": 22,
   "metadata": {},
   "outputs": [],
   "source": [
    "def cosine(Xtest,k):\n",
    "    y_res=[]\n",
    "    for index,row in X_test.iterrows():\n",
    "        result=[]\n",
    "        for index1,row1 in df.iterrows():\n",
    "                result.append(cosine_similarity(row,row1))\n",
    "        df1=pd.DataFrame(\n",
    "        {\n",
    "            'dist':result,\n",
    "            'class':y_train\n",
    "        })\n",
    "        df1=df1.sort_values(by=['dist'])\n",
    "        count=0;\n",
    "#         k=5\n",
    "        classVote={}\n",
    "        max1=0\n",
    "        res=\"\"\n",
    "        for index1,row1 in df1.iterrows():\n",
    "            capital=row1['class']\n",
    "            count=count+1\n",
    "            if  capital in classVote:\n",
    "                classVote[capital] = classVote[capital]+1\n",
    "            else:\n",
    "                classVote[capital]=1\n",
    "            if classVote[capital]>=max1:\n",
    "                res=capital\n",
    "                max1=classVote[capital]\n",
    "            if count==k:\n",
    "                break;\n",
    "        y_res.append(res)\n",
    "    return y_res"
   ]
  },
  {
   "cell_type": "code",
   "execution_count": 23,
   "metadata": {},
   "outputs": [],
   "source": [
    "def Manhat(Xtest,k):\n",
    "    y_res=[]\n",
    "    for index,row in X_test.iterrows():\n",
    "        result=[]\n",
    "        for index1,row1 in df.iterrows():\n",
    "                result.append(Manhattan_distance(row,row1))\n",
    "        df1=pd.DataFrame(\n",
    "        {\n",
    "            'dist':result,\n",
    "            'class':y_train\n",
    "        })\n",
    "        df1=df1.sort_values(by=['dist'])\n",
    "        count=0;\n",
    "#         k=5\n",
    "        classVote={}\n",
    "        max1=0\n",
    "        res=\"\"\n",
    "        for index1,row1 in df1.iterrows():\n",
    "            capital=row1['class']\n",
    "            count=count+1\n",
    "            if  capital in classVote:\n",
    "                classVote[capital] = classVote[capital]+1\n",
    "            else:\n",
    "                classVote[capital]=1\n",
    "            if classVote[capital]>=max1:\n",
    "                res=capital\n",
    "                max1=classVote[capital]\n",
    "            if count==k:\n",
    "                break;\n",
    "        y_res.append(res)\n",
    "    return y_res"
   ]
  },
  {
   "cell_type": "code",
   "execution_count": 24,
   "metadata": {},
   "outputs": [],
   "source": [
    "def euclid(Xtest,k):\n",
    "    y_res=[]\n",
    "    for index,row in X_test.iterrows():\n",
    "        result=[]\n",
    "        for index1,row1 in df.iterrows():\n",
    "                result.append(euclidean_distance(row,row1))\n",
    "        df1=pd.DataFrame(\n",
    "        {\n",
    "            'dist':result,\n",
    "            'class':y_train\n",
    "        })\n",
    "        df1=df1.sort_values(by=['dist'])\n",
    "        count=0;\n",
    "#         k=5\n",
    "        classVote={}\n",
    "        max1=0\n",
    "        res=\"\"\n",
    "        for index1,row1 in df1.iterrows():\n",
    "            capital=row1['class']\n",
    "            count=count+1\n",
    "            if  capital in classVote:\n",
    "                classVote[capital] = classVote[capital]+1\n",
    "            else:\n",
    "                classVote[capital]=1\n",
    "            if classVote[capital]>=max1:\n",
    "                res=capital\n",
    "                max1=classVote[capital]\n",
    "            if count==k:\n",
    "                break;\n",
    "        y_res.append(res)\n",
    "    return y_res\n"
   ]
  },
  {
   "cell_type": "code",
   "execution_count": 25,
   "metadata": {},
   "outputs": [],
   "source": [
    "def predict(Xtest,k):\n",
    "    yeuclid=euclid(Xtest,k)\n",
    "    ycos=cosine(Xtest,k)\n",
    "    yman=Manhat(Xtest,k)\n",
    "    return yeuclid,ycos,yman"
   ]
  },
  {
   "cell_type": "code",
   "execution_count": 26,
   "metadata": {
    "scrolled": true
   },
   "outputs": [],
   "source": [
    "yaxis=[]\n",
    "yaxis1=[]\n",
    "yman=[]\n",
    "for i in range(1,11):\n",
    "    y_res,y_cos,y_man=predict(X_test,i)\n",
    "#     print(confusion_matrix(y_test, y_res))  \n",
    "#     print(classification_report(y_test, y_res)) \n",
    "#     print(accuracy_score(y_test,y_res))\n",
    "    yaxis.append(accuracy_score(y_test,y_res))\n",
    "    yaxis1.append(accuracy_score(y_test,y_cos))\n",
    "    yman.append(accuracy_score(y_test,y_man))"
   ]
  },
  {
   "cell_type": "code",
   "execution_count": 27,
   "metadata": {},
   "outputs": [
    {
     "data": {
      "text/plain": [
       "Text(0.5, 1.0, 'Accuracy vs Kvalue')"
      ]
     },
     "execution_count": 27,
     "metadata": {},
     "output_type": "execute_result"
    },
    {
     "data": {
      "image/png": "[encoded data removed]",
      "text/plain": [
       "<Figure size 432x288 with 1 Axes>"
      ]
     },
     "metadata": {
      "needs_background": "light"
     },
     "output_type": "display_data"
    }
   ],
   "source": [
    "x_axis = [i for i in range(1,11)]\n",
    "# figure()\n",
    "\n",
    "fig, ax = plt.subplots()\n",
    "# y_axis=\n",
    "# plt.ylim(0.10,0.13)\n",
    "ax.plot(x_axis, yaxis, label=\"euclid\",marker=\"o\")\n",
    "ax.plot(x_axis, yaxis1, label=\"cosine\",marker=\"o\")\n",
    "ax.plot(x_axis, yman, label=\"Manhattan\",marker=\"o\")\n",
    "# t = np.arange(-5.0, 5.0, 0.01)\n",
    "ax.legend(loc=2) # upper left corner\n",
    "ax.set_xlabel(\"Kvalue\", fontsize=10)\n",
    "ax.set_ylabel(\"Accuracy\", fontsize=10)\n",
    "ax.set_title('Accuracy vs Kvalue')"
   ]
  },
  {
   "cell_type": "code",
   "execution_count": 28,
   "metadata": {},
   "outputs": [
    {
     "name": "stdout",
     "output_type": "stream",
     "text": [
      "[[ 9  0  0]\n",
      " [ 0 11  2]\n",
      " [ 0  0  5]]\n",
      "                 precision    recall  f1-score   support\n",
      "\n",
      "    Iris-setosa       1.00      1.00      1.00         9\n",
      "Iris-versicolor       1.00      0.85      0.92        13\n",
      " Iris-virginica       0.71      1.00      0.83         5\n",
      "\n",
      "      micro avg       0.93      0.93      0.93        27\n",
      "      macro avg       0.90      0.95      0.92        27\n",
      "   weighted avg       0.95      0.93      0.93        27\n",
      "\n",
      "0.9259259259259259\n"
     ]
    }
   ],
   "source": [
    "knn = KNeighborsClassifier()\n",
    "knn.fit(X_train, y_train)\n",
    "# knn.score(X_train, y_test)\n",
    "y_pred =knn.predict(X_test)  \n",
    "print(confusion_matrix(y_test, y_pred))  \n",
    "print(classification_report(y_test, y_pred)) \n",
    "print(accuracy_score(y_test,y_pred))"
   ]
  }
 ],
 "metadata": {
  "kernelspec": {
   "display_name": "Python 3",
   "language": "python",
   "name": "python3"
  },
  "language_info": {
   "codemirror_mode": {
    "name": "ipython",
    "version": 3
   },
   "file_extension": ".py",
   "mimetype": "text/x-python",
   "name": "python",
   "nbconvert_exporter": "python",
   "pygments_lexer": "ipython3",
   "version": "3.6.7"
  }
 },
 "nbformat": 4,
 "nbformat_minor": 2
}
