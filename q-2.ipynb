{
 "cells": [
  {
   "cell_type": "code",
   "execution_count": 69,
   "metadata": {},
   "outputs": [],
   "source": [
    "import pandas as pd\n",
    "import numpy as np\n",
    "from sklearn.neighbors import KNeighborsClassifier\n",
    "import sklearn as sk\n",
    "from sklearn.model_selection import train_test_split\n",
    "eps=np.finfo(float).eps\n",
    "from binarytree import tree,Node\n",
    "from sklearn.metrics import classification_report, confusion_matrix ,accuracy_score\n",
    "from sklearn.tree import DecisionTreeClassifier\n",
    "from operator import itemgetter\n",
    "import copy\n",
    "import collections\n",
    "from pylab import *\n",
    "import matplotlib\n",
    "import matplotlib.pyplot as plt\n",
    "from sklearn.naive_bayes import GaussianNB\n",
    "from sklearn import metrics"
   ]
  },
  {
   "cell_type": "code",
   "execution_count": 70,
   "metadata": {},
   "outputs": [],
   "source": [
    "names=['ID','Age','Experience','Income(in p.a)','Zip','FamilySize','Expenditure(p.m)','EduLevel','MortageValue','Personalloan','SecurityAcc','CD account','InternetBanking','CreditCard']\n",
    "df=pd.read_csv(\"LoanDataset/data.csv\",names=names)\n",
    "# df"
   ]
  },
  {
   "cell_type": "code",
   "execution_count": 71,
   "metadata": {},
   "outputs": [],
   "source": [
    "numeric=['Age','Experience','Income(in p.a)','FamilySize','Expenditure(p.m)','EduLevel','MortageValue']\n",
    "categoric=['SecurityAcc','CD account','InternetBanking','CreditCard']"
   ]
  },
  {
   "cell_type": "code",
   "execution_count": 72,
   "metadata": {},
   "outputs": [],
   "source": [
    "X =df.drop(['Personalloan','ID','Zip'],axis=1)\n",
    "y=df['Personalloan']\n",
    "X_train, X_test, y_train, y_test = train_test_split(X, y, test_size=0.2)\n",
    "df=pd.concat([X_train,y_train],axis=1)"
   ]
  },
  {
   "cell_type": "code",
   "execution_count": 73,
   "metadata": {},
   "outputs": [],
   "source": [
    "#Just seperation of class\n",
    "def separateByClass(df):\n",
    "#     print(dataset)\n",
    "    separated = {}\n",
    "    for index,row in df.iterrows():\n",
    "        if  row['Personalloan'] in separated:\n",
    "            separated[row['Personalloan']].append(list(row))\n",
    "        else:\n",
    "             separated[row['Personalloan']]=[]\n",
    "    return separated"
   ]
  },
  {
   "cell_type": "code",
   "execution_count": 74,
   "metadata": {},
   "outputs": [],
   "source": [
    "def mean(numbers):\n",
    "    return sum(numbers)/float(len(numbers))"
   ]
  },
  {
   "cell_type": "code",
   "execution_count": 75,
   "metadata": {},
   "outputs": [],
   "source": [
    "# sqrt((summa(x-avg)^2)/n)\n",
    "def stdev(numbers):\n",
    "    avg = mean(numbers)\n",
    "    varianceNum=0.0\n",
    "    for x in numbers:\n",
    "        varianceNum=varianceNum+pow(x-avg,2)\n",
    "    variance=varianceNum/float(len(numbers)-1)\n",
    "#     variance = sum([pow(x-avg,2) for x in numbers])/float(len(numbers)-1)\n",
    "    return math.sqrt(variance)"
   ]
  },
  {
   "cell_type": "code",
   "execution_count": 76,
   "metadata": {},
   "outputs": [],
   "source": [
    "def summarize(dataset):\n",
    "    summaries={}\n",
    "    df1=pd.DataFrame(dataset)\n",
    "    names=['Age','Experience','Income(in p.a)','FamilySize','Expenditure(p.m)','EduLevel','MortageValue','SecurityAcc','CD account','InternetBanking','CreditCard','Personalloan']\n",
    "    namesattr=['Age','Experience','Income(in p.a)','FamilySize','Expenditure(p.m)','EduLevel','MortageValue','SecurityAcc','CD account','InternetBanking','CreditCard']\n",
    "    df1.columns=names\n",
    "#     print(df1)\n",
    "    df1=df1.drop(['Personalloan'],axis=1)\n",
    "    for attribute in namesattr:\n",
    "        summaries[attribute]=(mean(df1[attribute]), stdev(df1[attribute]))\n",
    "#         summaries.append((mean(df1[attribute]), stdev(df1[attribute])))\n",
    "    return summaries"
   ]
  },
  {
   "cell_type": "code",
   "execution_count": 77,
   "metadata": {},
   "outputs": [],
   "source": [
    "#har class ke har ek attribute ke liye mean and variance\n",
    "def partitionByClass(df):\n",
    "#     print(dataset)\n",
    "    separated = separateByClass(df)\n",
    "#     print(\"seperated\")\n",
    "#     print(seperated)\n",
    "    summaries = {}\n",
    "    #seperated by class list\n",
    "    for classValue, instances in separated.items():\n",
    "        summaries[classValue] = summarize(instances)\n",
    "    return summaries"
   ]
  },
  {
   "cell_type": "code",
   "execution_count": 78,
   "metadata": {},
   "outputs": [],
   "source": [
    "#calculate gaussian distribution\n",
    "def Gaussian(x, mean, stdev):\n",
    "    exponent = math.exp(-(math.pow(x-mean,2)/(2*math.pow(stdev,2))))\n",
    "    return (1 / (math.sqrt(2*math.pi) * stdev)) * exponent"
   ]
  },
  {
   "cell_type": "code",
   "execution_count": 79,
   "metadata": {},
   "outputs": [],
   "source": [
    "#calculate gaussian distribution of each attrbute in a given row\n",
    "def getClassProbabilities(summaries,summaryCat,row):\n",
    "    classCol= df.keys()[-1]\n",
    "    probabilities = {}\n",
    "    probabilitiescat={}\n",
    "    for classValue, classSummaries in summaries.items():\n",
    "        num = len([df[classCol]==classValue])\n",
    "        den = len(df[classCol])\n",
    "        fraction = num/(den+eps)\n",
    "        probabilities[classValue] = 1\n",
    "        probabilitiescat[classValue] =fraction\n",
    "        flag=0\n",
    "        for attr,meanvar in classSummaries.items():\n",
    "            mean,stdev=meanvar\n",
    "            x=row[attr]\n",
    "            \n",
    "            if attr in numeric:\n",
    "                probabilities[classValue] *= Gaussian(x, mean, stdev)\n",
    "            else:\n",
    "#                 print(x)\n",
    "                flag=1\n",
    "                probabilitiescat[classValue]*=summaryCat[classValue][attr][x]\n",
    "        if flag==1:\n",
    "            probabilities[classValue]=probabilities[classValue]*probabilitiescat[classValue]\n",
    "    return probabilities"
   ]
  },
  {
   "cell_type": "code",
   "execution_count": 80,
   "metadata": {},
   "outputs": [],
   "source": [
    "#most dominating attribute probablity\n",
    "def getResultClass(summaries,summaryCat,row):\n",
    "    probabilities = getClassProbabilities(summaries,summaryCat,row)\n",
    "    if probabilities[0]>probabilities[1]:\n",
    "        return 0\n",
    "    else:\n",
    "        return 1"
   ]
  },
  {
   "cell_type": "code",
   "execution_count": 81,
   "metadata": {},
   "outputs": [],
   "source": [
    "def predict(summaries,summaryCat,testSet):\n",
    "    predictions = []\n",
    "    for index,row in testSet.iterrows():\n",
    "        result = getResultClass(summaries,summaryCat,row)\n",
    "        #result is basically in format of 1/0\n",
    "        predictions.append(result)\n",
    "    return predictions"
   ]
  },
  {
   "cell_type": "code",
   "execution_count": 82,
   "metadata": {},
   "outputs": [],
   "source": [
    "# print(df)\n",
    "def summaryCategory(df,attribute,value):\n",
    "    cat={}\n",
    "#     for attribute in categoric:\n",
    "#     print(attribute)\n",
    "    if df.empty==True:\n",
    "        return\n",
    "    classCol= df.keys()[-1] \n",
    "#         resultValues=df[classCol].unique() \n",
    "    attributeNames=df[attribute].unique()\n",
    "    entropy2 = 0\n",
    "    for attr in attributeNames:\n",
    "        num = len(df[attribute][df[attribute]==attr][df[classCol]==value])\n",
    "        den = len(df[attribute][df[attribute]==attr])\n",
    "        fraction = num/(den+eps)\n",
    "        cat[attr]=fraction\n",
    "    return cat"
   ]
  },
  {
   "cell_type": "code",
   "execution_count": 83,
   "metadata": {},
   "outputs": [],
   "source": [
    "def summaryCategoryattr(df,classCol):\n",
    "    cat={}\n",
    "    for attribute in categoric:\n",
    "        cat[attribute]=summaryCategory(df,attribute,classCol)\n",
    "    return cat"
   ]
  },
  {
   "cell_type": "code",
   "execution_count": 84,
   "metadata": {},
   "outputs": [
    {
     "name": "stdout",
     "output_type": "stream",
     "text": [
      "[[814   2]\n",
      " [ 73  11]]\n",
      "              precision    recall  f1-score   support\n",
      "\n",
      "           0       0.92      1.00      0.96       816\n",
      "           1       0.85      0.13      0.23        84\n",
      "\n",
      "   micro avg       0.92      0.92      0.92       900\n",
      "   macro avg       0.88      0.56      0.59       900\n",
      "weighted avg       0.91      0.92      0.89       900\n",
      "\n",
      "Accuracy:  0.9166666666666666\n"
     ]
    }
   ],
   "source": [
    "summaries = partitionByClass(df)\n",
    "summaryCat={}\n",
    "\n",
    "summaryCat[0]=summaryCategoryattr(df,0)\n",
    "summaryCat[1]=summaryCategoryattr(df,1)\n",
    "\n",
    "\n",
    "testfile=sys.argv[1]\n",
    "names=['ID','Age','Experience','Income(in p.a)','Zip','FamilySize','Expenditure(p.m)','EduLevel','MortageValue','SecurityAcc','CD account','InternetBanking','CreditCard']\n",
    "df2=pd.DataFrame()\n",
    "try:\n",
    "    df2=pd.read_csv(testfile,names=names)\n",
    "    predictions = predict(summaries,summaryCat,df2)\n",
    "    print(\"-------------------------------Loan Prediction------------------------------\\n\")\n",
    "    print(predictions)\n",
    "except:\n",
    "    df2=X_test\n",
    "    predictions = predict(summaries,summaryCat,df2)\n",
    "    print(confusion_matrix(y_test, predictions))  \n",
    "    print(classification_report(y_test,predictions)) \n",
    "    print(\"Accuracy: \",accuracy_score(y_test, predictions))"
   ]
  },
  {
   "cell_type": "code",
   "execution_count": 85,
   "metadata": {},
   "outputs": [
    {
     "name": "stdout",
     "output_type": "stream",
     "text": [
      "----------------------------System Results----------------------------------\n",
      "[[759  57]\n",
      " [ 34  50]]\n",
      "              precision    recall  f1-score   support\n",
      "\n",
      "           0       0.96      0.93      0.94       816\n",
      "           1       0.47      0.60      0.52        84\n",
      "\n",
      "   micro avg       0.90      0.90      0.90       900\n",
      "   macro avg       0.71      0.76      0.73       900\n",
      "weighted avg       0.91      0.90      0.90       900\n",
      "\n",
      "Accuracy:  0.8988888888888888\n"
     ]
    }
   ],
   "source": [
    "print(\"----------------------------System Results----------------------------------\")\n",
    "gnb = GaussianNB()\n",
    "gnb.fit(X_train, y_train)\n",
    "y_pred = gnb.predict(X_test)\n",
    "print(confusion_matrix(y_test,y_pred))  \n",
    "print(classification_report(y_test,y_pred)) \n",
    "print(\"Accuracy: \",metrics.accuracy_score(y_test, y_pred))"
   ]
  }
 ],
 "metadata": {
  "kernelspec": {
   "display_name": "Python 3",
   "language": "python",
   "name": "python3"
  },
  "language_info": {
   "codemirror_mode": {
    "name": "ipython",
    "version": 3
   },
   "file_extension": ".py",
   "mimetype": "text/x-python",
   "name": "python",
   "nbconvert_exporter": "python",
   "pygments_lexer": "ipython3",
   "version": "3.6.7"
  }
 },
 "nbformat": 4,
 "nbformat_minor": 2
}
