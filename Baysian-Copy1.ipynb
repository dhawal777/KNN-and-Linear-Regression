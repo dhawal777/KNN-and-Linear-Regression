{
 "cells": [
  {
   "cell_type": "code",
   "execution_count": 379,
   "metadata": {},
   "outputs": [],
   "source": [
    "import pandas as pd\n",
    "import numpy as np\n",
    "from sklearn.neighbors import KNeighborsClassifier\n",
    "import sklearn as sk\n",
    "from sklearn.model_selection import train_test_split\n",
    "eps=np.finfo(float).eps\n",
    "from binarytree import tree,Node\n",
    "from sklearn.metrics import classification_report, confusion_matrix ,accuracy_score\n",
    "from sklearn.tree import DecisionTreeClassifier\n",
    "from operator import itemgetter\n",
    "import copy\n",
    "import collections\n",
    "from pylab import *\n",
    "import matplotlib\n",
    "import matplotlib.pyplot as plt\n",
    "from sklearn.naive_bayes import GaussianNB\n",
    "from sklearn import metrics"
   ]
  },
  {
   "cell_type": "code",
   "execution_count": 380,
   "metadata": {},
   "outputs": [],
   "source": [
    "names=['ID','Age','Experience','Income(in p.a)','Zip','FamilySize','Expenditure(p.m)','EduLevel','MortageValue','Personalloan','SecurityAcc','CD account','InternetBanking','CreditCard']\n",
    "df=pd.read_csv(\"LoanDataset/data.csv\",names=names)\n",
    "# df"
   ]
  },
  {
   "cell_type": "code",
   "execution_count": 381,
   "metadata": {},
   "outputs": [],
   "source": [
    "numeric=['Age','Experience','Income(in p.a)','FamilySize','Expenditure(p.m)','EduLevel','MortageValue']\n",
    "categoric=['SecurityAcc','CD account','InternetBanking','CreditCard']"
   ]
  },
  {
   "cell_type": "code",
   "execution_count": 382,
   "metadata": {},
   "outputs": [],
   "source": [
    "X =df.drop(['Personalloan','ID','Zip'],axis=1)\n",
    "y=df['Personalloan']\n",
    "X_train, X_test, y_train, y_test = train_test_split(X, y, test_size=0.2)\n",
    "df=pd.concat([X_train,y_train],axis=1)"
   ]
  },
  {
   "cell_type": "code",
   "execution_count": 383,
   "metadata": {},
   "outputs": [],
   "source": [
    "#Just seperation of class\n",
    "def separateByClass(df):\n",
    "#     print(dataset)\n",
    "    separated = {}\n",
    "    for index,row in df.iterrows():\n",
    "        if  row['Personalloan'] in separated:\n",
    "            separated[row['Personalloan']].append(list(row))\n",
    "        else:\n",
    "             separated[row['Personalloan']]=[]\n",
    "    return separated"
   ]
  },
  {
   "cell_type": "code",
   "execution_count": 384,
   "metadata": {},
   "outputs": [],
   "source": [
    "def mean(numbers):\n",
    "    return sum(numbers)/float(len(numbers))"
   ]
  },
  {
   "cell_type": "code",
   "execution_count": 385,
   "metadata": {},
   "outputs": [],
   "source": [
    "# sqrt((summa(x-avg)^2)/n)\n",
    "def stdev(numbers):\n",
    "    avg = mean(numbers)\n",
    "    varianceNum=0.0\n",
    "    for x in numbers:\n",
    "        varianceNum=varianceNum+pow(x-avg,2)\n",
    "    variance=varianceNum/float(len(numbers)-1)\n",
    "#     variance = sum([pow(x-avg,2) for x in numbers])/float(len(numbers)-1)\n",
    "    return math.sqrt(variance)"
   ]
  },
  {
   "cell_type": "code",
   "execution_count": 386,
   "metadata": {},
   "outputs": [],
   "source": [
    "def summarize(dataset):\n",
    "    summaries={}\n",
    "    df1=pd.DataFrame(dataset)\n",
    "    names=['Age','Experience','Income(in p.a)','FamilySize','Expenditure(p.m)','EduLevel','MortageValue','SecurityAcc','CD account','InternetBanking','CreditCard','Personalloan']\n",
    "    namesattr=['Age','Experience','Income(in p.a)','FamilySize','Expenditure(p.m)','EduLevel','MortageValue','SecurityAcc','CD account','InternetBanking','CreditCard']\n",
    "    df1.columns=names\n",
    "#     print(df1)\n",
    "    df1=df1.drop(['Personalloan'],axis=1)\n",
    "    for attribute in namesattr:\n",
    "        summaries[attribute]=(mean(df1[attribute]), stdev(df1[attribute]))\n",
    "#         summaries.append((mean(df1[attribute]), stdev(df1[attribute])))\n",
    "    return summaries"
   ]
  },
  {
   "cell_type": "code",
   "execution_count": 387,
   "metadata": {},
   "outputs": [],
   "source": [
    "#har class ke har ek attribute ke liye mean and variance\n",
    "def partitionByClass(df):\n",
    "#     print(dataset)\n",
    "    separated = separateByClass(df)\n",
    "#     print(\"seperated\")\n",
    "#     print(seperated)\n",
    "    summaries = {}\n",
    "    #seperated by class list\n",
    "    for classValue, instances in separated.items():\n",
    "        summaries[classValue] = summarize(instances)\n",
    "    return summaries"
   ]
  },
  {
   "cell_type": "code",
   "execution_count": 388,
   "metadata": {},
   "outputs": [],
   "source": [
    "#calculate gaussian distribution\n",
    "def Gaussian(x, mean, stdev):\n",
    "    exponent = math.exp(-(math.pow(x-mean,2)/(2*math.pow(stdev,2))))\n",
    "    return (1 / (math.sqrt(2*math.pi) * stdev)) * exponent"
   ]
  },
  {
   "cell_type": "code",
   "execution_count": 389,
   "metadata": {},
   "outputs": [],
   "source": [
    "#calculate gaussian distribution of each attrbute in a given row\n",
    "def getClassProbabilities(summaries,summaryCat,row):\n",
    "    classCol= df.keys()[-1]\n",
    "    probabilities = {}\n",
    "    probabilitiescat={}\n",
    "    for classValue, classSummaries in summaries.items():\n",
    "        num = len([df[classCol]==classValue])\n",
    "        den = len(df[classCol])\n",
    "        fraction = num/(den+eps)\n",
    "        probabilities[classValue] = 1\n",
    "        probabilitiescat[classValue] =fraction\n",
    "        flag=0\n",
    "        for attr,meanvar in classSummaries.items():\n",
    "            mean,stdev=meanvar\n",
    "            x=row[attr]\n",
    "            \n",
    "            if attr in numeric:\n",
    "                probabilities[classValue] *= Gaussian(x, mean, stdev)\n",
    "            else:\n",
    "#                 print(x)\n",
    "                flag=1\n",
    "                probabilitiescat[classValue]*=summaryCat[classValue][attr][x]\n",
    "        if flag==1:\n",
    "            probabilities[classValue]=probabilities[classValue]*probabilitiescat[classValue]\n",
    "    return probabilities"
   ]
  },
  {
   "cell_type": "code",
   "execution_count": 390,
   "metadata": {},
   "outputs": [],
   "source": [
    "#most dominating attribute probablity\n",
    "def getResultClass(summaries,summaryCat,row):\n",
    "    probabilities = getClassProbabilities(summaries,summaryCat,row)\n",
    "    if probabilities[0]>probabilities[1]:\n",
    "        return 0\n",
    "    else:\n",
    "        return 1"
   ]
  },
  {
   "cell_type": "code",
   "execution_count": 391,
   "metadata": {},
   "outputs": [],
   "source": [
    "def predict(summaries,summaryCat,testSet):\n",
    "    predictions = []\n",
    "    for index,row in testSet.iterrows():\n",
    "        result = getResultClass(summaries,summaryCat,row)\n",
    "        #result is basically in format of 1/0\n",
    "        predictions.append(result)\n",
    "    return predictions"
   ]
  },
  {
   "cell_type": "code",
   "execution_count": 392,
   "metadata": {},
   "outputs": [],
   "source": [
    "# print(df)\n",
    "def summaryCategory(df,attribute,value):\n",
    "    cat={}\n",
    "#     for attribute in categoric:\n",
    "#     print(attribute)\n",
    "    if df.empty==True:\n",
    "        return\n",
    "    classCol= df.keys()[-1] \n",
    "#         resultValues=df[classCol].unique() \n",
    "    attributeNames=df[attribute].unique()\n",
    "    entropy2 = 0\n",
    "    for attr in attributeNames:\n",
    "        num = len(df[attribute][df[attribute]==attr][df[classCol]==value])\n",
    "        den = len(df[attribute][df[attribute]==attr])\n",
    "        fraction = num/(den+eps)\n",
    "        cat[attr]=fraction\n",
    "    return cat"
   ]
  },
  {
   "cell_type": "code",
   "execution_count": 393,
   "metadata": {},
   "outputs": [],
   "source": [
    "def summaryCategoryattr(df,classCol):\n",
    "    cat={}\n",
    "    for attribute in categoric:\n",
    "        cat[attribute]=summaryCategory(df,attribute,classCol)\n",
    "    return cat"
   ]
  },
  {
   "cell_type": "code",
   "execution_count": 394,
   "metadata": {},
   "outputs": [
    {
     "name": "stdout",
     "output_type": "stream",
     "text": [
      "{0: {'SecurityAcc': {1: 0.8825, 0: 0.9062206939668647}, 'CD account': {1: 0.5333333333333333, 0: 0.9282750444576171}, 'InternetBanking': {1: 0.902014652014652, 0: 0.9060070671378092}, 'CreditCard': {1: 0.9031639501438159, 0: 0.903755868544601}}, 1: {'SecurityAcc': {1: 0.1175, 0: 0.09377930603313535}, 'CD account': {1: 0.4666666666666667, 0: 0.07172495554238292}, 'InternetBanking': {1: 0.09798534798534798, 0: 0.0939929328621908}, 'CreditCard': {1: 0.09683604985618409, 0: 0.09624413145539906}}}\n",
      "[[808   5]\n",
      " [ 76  11]]\n",
      "              precision    recall  f1-score   support\n",
      "\n",
      "           0       0.91      0.99      0.95       813\n",
      "           1       0.69      0.13      0.21        87\n",
      "\n",
      "   micro avg       0.91      0.91      0.91       900\n",
      "   macro avg       0.80      0.56      0.58       900\n",
      "weighted avg       0.89      0.91      0.88       900\n",
      "\n",
      "Accuracy:  0.91\n"
     ]
    }
   ],
   "source": [
    "summaries = partitionByClass(df)\n",
    "summaryCat={}\n",
    "\n",
    "summaryCat[0]=summaryCategoryattr(df,0)\n",
    "summaryCat[1]=summaryCategoryattr(df,1)\n",
    "print(summaryCat)\n",
    "# print(summaries)\n",
    "# test model\n",
    "# print(X_test)\n",
    "predictions = predict(summaries,summaryCat,X_test)\n",
    "# print(predictions)\n",
    "# accuracy = getAccuracy(X_test, predictions)\n",
    "# print('Accuracy: {0}%').format(accuracy)\n",
    "print(confusion_matrix(y_test, predictions))  \n",
    "print(classification_report(y_test,predictions)) \n",
    "print(\"Accuracy: \",accuracy_score(y_test, predictions))"
   ]
  },
  {
   "cell_type": "code",
   "execution_count": 395,
   "metadata": {},
   "outputs": [
    {
     "name": "stdout",
     "output_type": "stream",
     "text": [
      "[[749  64]\n",
      " [ 42  45]]\n",
      "              precision    recall  f1-score   support\n",
      "\n",
      "           0       0.95      0.92      0.93       813\n",
      "           1       0.41      0.52      0.46        87\n",
      "\n",
      "   micro avg       0.88      0.88      0.88       900\n",
      "   macro avg       0.68      0.72      0.70       900\n",
      "weighted avg       0.90      0.88      0.89       900\n",
      "\n",
      "Accuracy:  0.8822222222222222\n"
     ]
    }
   ],
   "source": [
    "#Create a Gaussian Classifier\n",
    "gnb = GaussianNB()\n",
    "\n",
    "#Train the model using the training sets\n",
    "gnb.fit(X_train, y_train)\n",
    "\n",
    "#Predict the response for test dataset\n",
    "y_pred = gnb.predict(X_test)\n",
    "print(confusion_matrix(y_test,y_pred))  \n",
    "print(classification_report(y_test,y_pred)) \n",
    "# Model Accuracy, how often is the classifier correct?\n",
    "print(\"Accuracy: \",metrics.accuracy_score(y_test, y_pred))"
   ]
  }
 ],
 "metadata": {
  "kernelspec": {
   "display_name": "Python 3",
   "language": "python",
   "name": "python3"
  },
  "language_info": {
   "codemirror_mode": {
    "name": "ipython",
    "version": 3
   },
   "file_extension": ".py",
   "mimetype": "text/x-python",
   "name": "python",
   "nbconvert_exporter": "python",
   "pygments_lexer": "ipython3",
   "version": "3.6.7"
  }
 },
 "nbformat": 4,
 "nbformat_minor": 2
}
