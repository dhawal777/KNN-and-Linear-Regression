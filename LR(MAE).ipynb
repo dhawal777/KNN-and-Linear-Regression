{
 "cells": [
  {
   "cell_type": "code",
   "execution_count": 20,
   "metadata": {},
   "outputs": [],
   "source": [
    "import numpy as np\n",
    "import pandas as pd\n",
    "from sklearn.preprocessing import LabelEncoder,OneHotEncoder\n",
    "import sklearn as sk\n",
    "from sklearn.model_selection import train_test_split\n",
    "from sklearn.metrics import r2_score\n",
    "from sklearn.metrics import mean_absolute_error"
   ]
  },
  {
   "cell_type": "code",
   "execution_count": 21,
   "metadata": {},
   "outputs": [],
   "source": [
    "df=pd.read_csv(\"AdmissionDataset/data.csv\")\n",
    "df\n",
    "X =df.drop(['Chance of Admit ','Serial No.'],axis=1)\n",
    "y=df['Chance of Admit ']\n"
   ]
  },
  {
   "cell_type": "code",
   "execution_count": 22,
   "metadata": {},
   "outputs": [],
   "source": [
    "#y\n",
    "X = (X - X.mean())/X.std()\n"
   ]
  },
  {
   "cell_type": "code",
   "execution_count": 23,
   "metadata": {},
   "outputs": [],
   "source": [
    "# y=(y-y.mean())/y.std()\n",
    "X_train, X_test, y_train, y_test = train_test_split(X, y, test_size=0.2)\n",
    "features=['GRE Score','TOEFL Score','University Rating','SOP','LOR ','CGPA','Research']\n",
    "my_data=pd.concat([X_train,y_train],axis=1)"
   ]
  },
  {
   "cell_type": "code",
   "execution_count": 24,
   "metadata": {},
   "outputs": [],
   "source": [
    "# X = my_data.iloc[:,0:7]"
   ]
  },
  {
   "cell_type": "code",
   "execution_count": 25,
   "metadata": {},
   "outputs": [],
   "source": [
    "# ones = np.ones([X.shape[0],1])\n",
    "# X = np.concatenate((ones,X),axis=1)"
   ]
  },
  {
   "cell_type": "code",
   "execution_count": 26,
   "metadata": {},
   "outputs": [],
   "source": [
    "# y = my_data.iloc[:,7:8].values #.values converts it from pandas.core.frame.DataFrame to numpy.ndarray\n"
   ]
  },
  {
   "cell_type": "code",
   "execution_count": 27,
   "metadata": {},
   "outputs": [],
   "source": [
    "betaList = [0.0,0.0,0.0,0.0,0.0,0.0,0.0]\n",
    "# theta"
   ]
  },
  {
   "cell_type": "code",
   "execution_count": 28,
   "metadata": {},
   "outputs": [],
   "source": [
    "#set hyper parameters\n",
    "# alpha = 0.01\n",
    "# iters = 1000\n"
   ]
  },
  {
   "cell_type": "code",
   "execution_count": 29,
   "metadata": {},
   "outputs": [],
   "source": [
    "# def gradientDescent(X,y,theta,iters,alpha):\n",
    "# #     cost = np.zeros(iters)\n",
    "#     for i in range(iters):\n",
    "# #         theta = theta - (alpha/len(X)) * np.sum(X * (X @ theta.T - y), axis=0)\n",
    "# #         if \n",
    "#          theta = 0.99*theta\n",
    "    \n",
    "#     return theta\n",
    "\n",
    "for index,row in X_train.iterrows():\n",
    "    max1=10000\n",
    "    j=0\n",
    "    ans=0\n",
    "    for i in features:\n",
    "        if abs(row[i]-y_train[0])<max1:\n",
    "            max1=abs(row[i]-y_train[index])\n",
    "            attr=i\n",
    "            ans=j\n",
    "            j=j+1\n",
    "        \n",
    "    if y_train[0]>row[attr]:\n",
    "        betaList[ans]=betaList[ans]-1\n",
    "    else:\n",
    "        betaList[ans]=betaList[ans]+1\n",
    "        \n",
    "    \n",
    "# g = gradientDescent(X,y,theta,iters,alpha)\n",
    "for j in range(0,7):\n",
    "    if betaList[j]>0:\n",
    "        betaList[j]=1\n",
    "    else:\n",
    "        betaList[j]=-1"
   ]
  },
  {
   "cell_type": "code",
   "execution_count": 30,
   "metadata": {},
   "outputs": [],
   "source": [
    "# betaList=g[0]\n",
    "# betaList"
   ]
  },
  {
   "cell_type": "code",
   "execution_count": 31,
   "metadata": {},
   "outputs": [],
   "source": [
    "y_pred=[]\n",
    "for index,row in X_test.iterrows():\n",
    "    row=list(row)\n",
    "#     print(row)\n",
    "#     print(g)\n",
    "    y1=0\n",
    "    for i in range(0,7):\n",
    "#         print(betaList[i],row[i])\n",
    "        y1=y1+betaList[i]*row[i]\n",
    "    y1=y1+betaList[0]\n",
    "    y_pred.append(y1)\n",
    "#     break  \n",
    "# ones = np.ones([X_test.shape[0],1])\n",
    "# X_test = np.concatenate((ones,X_test),axis=1)\n",
    "# X_test.shape\n",
    "# # betaList.shape\n",
    "# y_pred=X_test@betaList"
   ]
  },
  {
   "cell_type": "code",
   "execution_count": 32,
   "metadata": {},
   "outputs": [
    {
     "data": {
      "text/plain": [
       "[1, -1, -1, 1, 1, 1, -1]"
      ]
     },
     "execution_count": 32,
     "metadata": {},
     "output_type": "execute_result"
    }
   ],
   "source": [
    "# y_pred\n",
    "betaList"
   ]
  },
  {
   "cell_type": "code",
   "execution_count": 33,
   "metadata": {},
   "outputs": [
    {
     "data": {
      "text/plain": [
       "1.4987554510202399"
      ]
     },
     "execution_count": 33,
     "metadata": {},
     "output_type": "execute_result"
    }
   ],
   "source": [
    "mean_absolute_error(y_test, y_pred)"
   ]
  },
  {
   "cell_type": "code",
   "execution_count": 34,
   "metadata": {},
   "outputs": [],
   "source": [
    "from sklearn.linear_model import LinearRegression\n",
    "regressor=LinearRegression()\n",
    "regressor.fit(X_train,y_train)\n",
    "y_pred = regressor.predict(X_test) \n",
    "\n",
    "# print(len(y_pred))\n",
    "# print(len(y_test))\n",
    "# print(confusion_matrix(y_test, y_pred))  \n",
    "# # print(classification_report(y_test, y_pred)) \n",
    "# print(accuracy_score(y_test,y_pred))"
   ]
  },
  {
   "cell_type": "code",
   "execution_count": 35,
   "metadata": {},
   "outputs": [
    {
     "data": {
      "text/plain": [
       "0.04421508240828621"
      ]
     },
     "execution_count": 35,
     "metadata": {},
     "output_type": "execute_result"
    }
   ],
   "source": [
    "# print(regressor.coef_)\n",
    "# print(betaList)\n",
    "mean_absolute_error(y_test, y_pred)"
   ]
  },
  {
   "cell_type": "code",
   "execution_count": 36,
   "metadata": {},
   "outputs": [
    {
     "name": "stdout",
     "output_type": "stream",
     "text": [
      "0.7194507573807364\n"
     ]
    }
   ],
   "source": [
    "print(regressor.intercept_)"
   ]
  },
  {
   "cell_type": "code",
   "execution_count": 37,
   "metadata": {},
   "outputs": [],
   "source": [
    "# y_pred"
   ]
  },
  {
   "cell_type": "code",
   "execution_count": 38,
   "metadata": {},
   "outputs": [
    {
     "data": {
      "text/plain": [
       "0.7893018302523841"
      ]
     },
     "execution_count": 38,
     "metadata": {},
     "output_type": "execute_result"
    }
   ],
   "source": [
    "#r_squared value for accuracy\n",
    "\n",
    "r2_score(y_test,y_pred)"
   ]
  }
 ],
 "metadata": {
  "kernelspec": {
   "display_name": "Python 3",
   "language": "python",
   "name": "python3"
  },
  "language_info": {
   "codemirror_mode": {
    "name": "ipython",
    "version": 3
   },
   "file_extension": ".py",
   "mimetype": "text/x-python",
   "name": "python",
   "nbconvert_exporter": "python",
   "pygments_lexer": "ipython3",
   "version": "3.6.7"
  }
 },
 "nbformat": 4,
 "nbformat_minor": 2
}
