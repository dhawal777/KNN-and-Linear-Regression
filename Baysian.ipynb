{
 "cells": [
  {
   "cell_type": "code",
   "execution_count": 1,
   "metadata": {},
   "outputs": [],
   "source": [
    "import pandas as pd\n",
    "import numpy as np\n",
    "from sklearn.neighbors import KNeighborsClassifier\n",
    "import sklearn as sk\n",
    "from sklearn.model_selection import train_test_split\n",
    "eps=np.finfo(float).eps\n",
    "from binarytree import tree,Node\n",
    "from sklearn.metrics import classification_report, confusion_matrix ,accuracy_score\n",
    "from sklearn.tree import DecisionTreeClassifier\n",
    "from operator import itemgetter\n",
    "import copy\n",
    "import collections\n",
    "from pylab import *\n",
    "import matplotlib\n",
    "import matplotlib.pyplot as plt\n",
    "from sklearn.naive_bayes import GaussianNB\n",
    "from sklearn import metrics"
   ]
  },
  {
   "cell_type": "code",
   "execution_count": 2,
   "metadata": {},
   "outputs": [],
   "source": [
    "names=['ID','Age','Experience','Income(in p.a)','Zip','FamilySize','Expenditure(p.m)','EduLevel','MortageValue','Personalloan','SecurityAcc','CD account','InternetBanking','CreditCard']\n",
    "df=pd.read_csv(\"LoanDataset/data.csv\",names=names)\n",
    "# df"
   ]
  },
  {
   "cell_type": "code",
   "execution_count": 3,
   "metadata": {},
   "outputs": [],
   "source": [
    "numeric=['Age','Experience','Income(in p.a)','FamilySize','Expenditure(p.m)','EduLevel','MortageValue']\n",
    "categoric=['Zip','Personalloan','SecurityAcc','CD account','InternetBanking','CreditCard']"
   ]
  },
  {
   "cell_type": "code",
   "execution_count": 4,
   "metadata": {},
   "outputs": [],
   "source": [
    "X =df.drop(['Personalloan'],axis=1)\n",
    "y=df['Personalloan']\n",
    "X_train, X_test, y_train, y_test = train_test_split(X, y, test_size=0.2)\n",
    "df=pd.concat([X_train,y_train],axis=1)"
   ]
  },
  {
   "cell_type": "code",
   "execution_count": 5,
   "metadata": {},
   "outputs": [],
   "source": [
    "#Just seperation of class\n",
    "def separateByClass(df):\n",
    "#     print(dataset)\n",
    "    separated = {}\n",
    "    for index,row in df.iterrows():\n",
    "        if  row['Personalloan'] in separated:\n",
    "            separated[row['Personalloan']].append(list(row))\n",
    "        else:\n",
    "             separated[row['Personalloan']]=[]\n",
    "    return separated"
   ]
  },
  {
   "cell_type": "code",
   "execution_count": 6,
   "metadata": {},
   "outputs": [],
   "source": [
    "def mean(numbers):\n",
    "    return sum(numbers)/float(len(numbers))"
   ]
  },
  {
   "cell_type": "code",
   "execution_count": 7,
   "metadata": {},
   "outputs": [],
   "source": [
    "# sqrt((summa(x-avg)^2)/n)\n",
    "def stdev(numbers):\n",
    "    avg = mean(numbers)\n",
    "    varianceNum=0.0\n",
    "    for x in numbers:\n",
    "        varianceNum=varianceNum+pow(x-avg,2)\n",
    "    variance=varianceNum/float(len(numbers)-1)\n",
    "#     variance = sum([pow(x-avg,2) for x in numbers])/float(len(numbers)-1)\n",
    "    return math.sqrt(variance)"
   ]
  },
  {
   "cell_type": "code",
   "execution_count": 8,
   "metadata": {},
   "outputs": [],
   "source": [
    "def summarize(dataset):\n",
    "    summaries={}\n",
    "    df1=pd.DataFrame(dataset)\n",
    "    names=['ID','Age','Experience','Income(in p.a)','Zip','FamilySize','Expenditure(p.m)','EduLevel','MortageValue','SecurityAcc','CD account','InternetBanking','CreditCard','Personalloan']\n",
    "    namesattr=['ID','Age','Experience','Income(in p.a)','Zip','FamilySize','Expenditure(p.m)','EduLevel','MortageValue','SecurityAcc','CD account','InternetBanking','CreditCard']\n",
    "    df1.columns=names\n",
    "#     print(df1)\n",
    "    df1=df1.drop(['Personalloan'],axis=1)\n",
    "    for attribute in namesattr:\n",
    "        summaries[attribute]=(mean(df1[attribute]), stdev(df1[attribute]))\n",
    "#         summaries.append((mean(df1[attribute]), stdev(df1[attribute])))\n",
    "    return summaries"
   ]
  },
  {
   "cell_type": "code",
   "execution_count": 9,
   "metadata": {},
   "outputs": [],
   "source": [
    "#har class ke har ek attribute ke liye mean and variance\n",
    "def partitionByClass(df):\n",
    "#     print(dataset)\n",
    "    separated = separateByClass(df)\n",
    "#     print(\"seperated\")\n",
    "#     print(seperated)\n",
    "    summaries = {}\n",
    "    #seperated by class list\n",
    "    for classValue, instances in separated.items():\n",
    "        summaries[classValue] = summarize(instances)\n",
    "    return summaries"
   ]
  },
  {
   "cell_type": "code",
   "execution_count": 10,
   "metadata": {},
   "outputs": [],
   "source": [
    "#calculate gaussian distribution\n",
    "def Gaussian(x, mean, stdev):\n",
    "    exponent = math.exp(-(math.pow(x-mean,2)/(2*math.pow(stdev,2))))\n",
    "    return (1 / (math.sqrt(2*math.pi) * stdev)) * exponent"
   ]
  },
  {
   "cell_type": "code",
   "execution_count": 11,
   "metadata": {},
   "outputs": [],
   "source": [
    "#calculate gaussian distribution of each attrbute in a given row\n",
    "def getClassProbabilities(summaries,row):\n",
    "    probabilities = {}\n",
    "    for classValue, classSummaries in summaries.items():\n",
    "        probabilities[classValue] = 1\n",
    "        for attr,meanvar in classSummaries.items():\n",
    "            mean,stdev=meanvar\n",
    "            x=row[attr]\n",
    "            probabilities[classValue] *= Gaussian(x, mean, stdev)\n",
    "    return probabilities"
   ]
  },
  {
   "cell_type": "code",
   "execution_count": 12,
   "metadata": {},
   "outputs": [],
   "source": [
    "#most dominating attribute probablity\n",
    "def getResultClass(summaries,row):\n",
    "    probabilities = getClassProbabilities(summaries,row)\n",
    "    if probabilities[0]>probabilities[1]:\n",
    "        return 0\n",
    "    else:\n",
    "        return 1"
   ]
  },
  {
   "cell_type": "code",
   "execution_count": 13,
   "metadata": {},
   "outputs": [],
   "source": [
    "def predict(summaries, testSet):\n",
    "    predictions = []\n",
    "    for index,row in testSet.iterrows():\n",
    "        result = getResultClass(summaries,row)\n",
    "        #result is basically in format of 1/0\n",
    "        predictions.append(result)\n",
    "    return predictions"
   ]
  },
  {
   "cell_type": "code",
   "execution_count": 14,
   "metadata": {},
   "outputs": [],
   "source": [
    "# print(df)"
   ]
  },
  {
   "cell_type": "code",
   "execution_count": 15,
   "metadata": {},
   "outputs": [
    {
     "name": "stdout",
     "output_type": "stream",
     "text": [
      "[[701 104]\n",
      " [ 23  72]]\n",
      "              precision    recall  f1-score   support\n",
      "\n",
      "           0       0.97      0.87      0.92       805\n",
      "           1       0.41      0.76      0.53        95\n",
      "\n",
      "   micro avg       0.86      0.86      0.86       900\n",
      "   macro avg       0.69      0.81      0.72       900\n",
      "weighted avg       0.91      0.86      0.88       900\n",
      "\n",
      "Accuracy:  0.8588888888888889\n"
     ]
    }
   ],
   "source": [
    "summaries = partitionByClass(df)\n",
    "# print(summaries)\n",
    "# test model\n",
    "# print(X_test)\n",
    "predictions = predict(summaries, X_test)\n",
    "# print(predictions)\n",
    "# accuracy = getAccuracy(X_test, predictions)\n",
    "# print('Accuracy: {0}%').format(accuracy)\n",
    "print(confusion_matrix(y_test, predictions))  \n",
    "print(classification_report(y_test,predictions)) \n",
    "print(\"Accuracy: \",accuracy_score(y_test, predictions))"
   ]
  },
  {
   "cell_type": "code",
   "execution_count": 16,
   "metadata": {},
   "outputs": [
    {
     "name": "stdout",
     "output_type": "stream",
     "text": [
      "[[737  68]\n",
      " [ 37  58]]\n",
      "              precision    recall  f1-score   support\n",
      "\n",
      "           0       0.95      0.92      0.93       805\n",
      "           1       0.46      0.61      0.52        95\n",
      "\n",
      "   micro avg       0.88      0.88      0.88       900\n",
      "   macro avg       0.71      0.76      0.73       900\n",
      "weighted avg       0.90      0.88      0.89       900\n",
      "\n",
      "Accuracy:  0.8833333333333333\n"
     ]
    }
   ],
   "source": [
    "#Create a Gaussian Classifier\n",
    "gnb = GaussianNB()\n",
    "\n",
    "#Train the model using the training sets\n",
    "gnb.fit(X_train, y_train)\n",
    "\n",
    "#Predict the response for test dataset\n",
    "y_pred = gnb.predict(X_test)\n",
    "print(confusion_matrix(y_test,y_pred))  \n",
    "print(classification_report(y_test,y_pred)) \n",
    "# Model Accuracy, how often is the classifier correct?\n",
    "print(\"Accuracy: \",metrics.accuracy_score(y_test, y_pred))"
   ]
  }
 ],
 "metadata": {
  "kernelspec": {
   "display_name": "Python 3",
   "language": "python",
   "name": "python3"
  },
  "language_info": {
   "codemirror_mode": {
    "name": "ipython",
    "version": 3
   },
   "file_extension": ".py",
   "mimetype": "text/x-python",
   "name": "python",
   "nbconvert_exporter": "python",
   "pygments_lexer": "ipython3",
   "version": "3.6.7"
  }
 },
 "nbformat": 4,
 "nbformat_minor": 2
}
