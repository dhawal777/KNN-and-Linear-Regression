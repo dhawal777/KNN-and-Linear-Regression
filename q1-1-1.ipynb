{
 "cells": [
  {
   "cell_type": "code",
   "execution_count": 4,
   "metadata": {},
   "outputs": [],
   "source": [
    "import pandas as pd\n",
    "import numpy as np\n",
    "from sklearn.neighbors import KNeighborsClassifier\n",
    "import sklearn as sk\n",
    "from sklearn.model_selection import train_test_split\n",
    "eps=np.finfo(float).eps\n",
    "from binarytree import tree,Node\n",
    "from sklearn.metrics import classification_report, confusion_matrix ,accuracy_score\n",
    "from sklearn.tree import DecisionTreeClassifier\n",
    "from operator import itemgetter\n",
    "import copy\n",
    "import collections\n",
    "from pylab import *\n",
    "import matplotlib\n",
    "import matplotlib.pyplot as plt"
   ]
  },
  {
   "cell_type": "code",
   "execution_count": 5,
   "metadata": {},
   "outputs": [],
   "source": [
    "def euclidean_distance(x, y): \n",
    "#row by row i.e all features resultant euclid distance in single line\n",
    "    return np.sqrt(np.sum((x - y) ** 2))\n"
   ]
  },
  {
   "cell_type": "code",
   "execution_count": 6,
   "metadata": {
    "scrolled": false
   },
   "outputs": [],
   "source": [
    "names=['sepal-length','sepal-width','petal-length','petal-width','Class']\n",
    "df=pd.read_csv(\"Iris/Iris.csv\",names=names)"
   ]
  },
  {
   "cell_type": "code",
   "execution_count": 7,
   "metadata": {},
   "outputs": [],
   "source": [
    "X =df.drop(['Class'],axis=1)\n",
    "y=df['Class']\n",
    "X_train, X_test, y_train, y_test = train_test_split(X, y, test_size=0.2)"
   ]
  },
  {
   "cell_type": "code",
   "execution_count": 8,
   "metadata": {},
   "outputs": [],
   "source": [
    "df=X_train\n",
    "y_train=list(y_train)"
   ]
  },
  {
   "cell_type": "code",
   "execution_count": 9,
   "metadata": {},
   "outputs": [],
   "source": [
    "def predict(Xtest,k):\n",
    "    y_res=[]\n",
    "    for index,row in X_test.iterrows():\n",
    "        result=[]\n",
    "        for index1,row1 in df.iterrows():\n",
    "                result.append(euclidean_distance(row,row1))\n",
    "        df1=pd.DataFrame(\n",
    "        {\n",
    "            'dist':result,\n",
    "            'class':y_train\n",
    "        })\n",
    "        df1=df1.sort_values(by=['dist'])\n",
    "        count=0;\n",
    "#         k=5\n",
    "        classVote={}\n",
    "        max1=0\n",
    "        res=\"\"\n",
    "        for index1,row1 in df1.iterrows():\n",
    "            capital=row1['class']\n",
    "            count=count+1\n",
    "            if  capital in classVote:\n",
    "                classVote[capital] = classVote[capital]+1\n",
    "            else:\n",
    "                classVote[capital]=1\n",
    "            if classVote[capital]>=max1:\n",
    "                res=capital\n",
    "                max1=classVote[capital]\n",
    "            if count==k:\n",
    "                break;\n",
    "        y_res.append(res)\n",
    "    return y_res"
   ]
  },
  {
   "cell_type": "code",
   "execution_count": 10,
   "metadata": {
    "scrolled": true
   },
   "outputs": [
    {
     "name": "stdout",
     "output_type": "stream",
     "text": [
      "[[ 6  0  0]\n",
      " [ 0 12  1]\n",
      " [ 0  1  7]]\n",
      "                 precision    recall  f1-score   support\n",
      "\n",
      "    Iris-setosa       1.00      1.00      1.00         6\n",
      "Iris-versicolor       0.92      0.92      0.92        13\n",
      " Iris-virginica       0.88      0.88      0.88         8\n",
      "\n",
      "      micro avg       0.93      0.93      0.93        27\n",
      "      macro avg       0.93      0.93      0.93        27\n",
      "   weighted avg       0.93      0.93      0.93        27\n",
      "\n",
      "0.9259259259259259\n"
     ]
    }
   ],
   "source": [
    "y_res=predict(X_test,5)\n",
    "print(\"------Confusion Matrix---------\")\n",
    "print(confusion_matrix(y_test, y_res))  \n",
    "print(classification_report(y_test, y_res)) \n",
    "print(\"Accuracy:--\"accuracy_score(y_test,y_res))\n"
   ]
  },
  {
   "cell_type": "code",
   "execution_count": 11,
   "metadata": {},
   "outputs": [
    {
     "name": "stdout",
     "output_type": "stream",
     "text": [
      "[[ 6  0  0]\n",
      " [ 0 12  1]\n",
      " [ 0  1  7]]\n",
      "                 precision    recall  f1-score   support\n",
      "\n",
      "    Iris-setosa       1.00      1.00      1.00         6\n",
      "Iris-versicolor       0.92      0.92      0.92        13\n",
      " Iris-virginica       0.88      0.88      0.88         8\n",
      "\n",
      "      micro avg       0.93      0.93      0.93        27\n",
      "      macro avg       0.93      0.93      0.93        27\n",
      "   weighted avg       0.93      0.93      0.93        27\n",
      "\n",
      "0.9259259259259259\n"
     ]
    }
   ],
   "source": [
    "knn = KNeighborsClassifier()\n",
    "knn.fit(X_train, y_train)\n",
    "# knn.score(X_train, y_test)\n",
    "y_pred =knn.predict(X_test)  \n",
    "print(\"------System confusion Matrix---------\")\n",
    "print(confusion_matrix(y_test, y_pred))  \n",
    "print(classification_report(y_test, y_pred)) \n",
    "print(\"System Accuracy\")\n",
    "print(accuracy_score(y_test,y_pred))"
   ]
  }
 ],
 "metadata": {
  "kernelspec": {
   "display_name": "Python 3",
   "language": "python",
   "name": "python3"
  },
  "language_info": {
   "codemirror_mode": {
    "name": "ipython",
    "version": 3
   },
   "file_extension": ".py",
   "mimetype": "text/x-python",
   "name": "python",
   "nbconvert_exporter": "python",
   "pygments_lexer": "ipython3",
   "version": "3.6.7"
  }
 },
 "nbformat": 4,
 "nbformat_minor": 2
}
